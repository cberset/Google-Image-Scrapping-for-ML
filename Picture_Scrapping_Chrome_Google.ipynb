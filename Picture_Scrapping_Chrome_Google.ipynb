{
 "cells": [
  {
   "cell_type": "code",
   "execution_count": 2,
   "metadata": {
    "scrolled": false
   },
   "outputs": [],
   "source": [
    "from selenium import webdriver\n",
    "import os\n",
    "import time\n",
    "import requests\n",
    "import io\n",
    "import hashlib\n",
    "from PIL import Image\n",
    "\n",
    "DRIVER_PATH = 'C:/Users/Chris/Desktop/codinggit/Scrapping/chromedriver.exe'\n",
    "wd = webdriver.Chrome(executable_path=DRIVER_PATH)"
   ]
  },
  {
   "cell_type": "code",
   "execution_count": 3,
   "metadata": {},
   "outputs": [],
   "source": [
    "def fetch_image_urls(query:str, max_links_to_fetch:int, wd:webdriver, sleep_between_interactions:int=1):\n",
    "    def scroll_to_end(wd):\n",
    "        wd.execute_script(\"window.scrollTo(0, document.body.scrollHeight);\")\n",
    "        time.sleep(sleep_between_interactions)    \n",
    "    \n",
    "    # build the google query\n",
    "    search_url = \"https://www.google.com/search?safe=off&site=&tbm=isch&source=hp&q={q}&oq={q}&gs_l=img\"\n",
    "\n",
    "    # load the page\n",
    "    wd.get(search_url.format(q=query))\n",
    "\n",
    "    image_urls = set()\n",
    "    image_count = 0\n",
    "    results_start = 0\n",
    "    while image_count < max_links_to_fetch:\n",
    "        scroll_to_end(wd)\n",
    "\n",
    "        # get all image thumbnail results\n",
    "        thumbnail_results = wd.find_elements_by_css_selector(\"img.Q4LuWd\")\n",
    "        number_results = len(thumbnail_results)\n",
    "        \n",
    "        print(f\"Found: {number_results} search results. Extracting links from {results_start}:{number_results}\")\n",
    "        \n",
    "        for img in thumbnail_results[results_start:number_results]:\n",
    "            # try to click every thumbnail such that we can get the real image behind it\n",
    "            try:\n",
    "                img.click()\n",
    "                time.sleep(sleep_between_interactions)\n",
    "            except Exception:\n",
    "                continue\n",
    "\n",
    "            # extract image urls    \n",
    "            actual_images = wd.find_elements_by_css_selector('img.n3VNCb')\n",
    "            for actual_image in actual_images:\n",
    "                if actual_image.get_attribute('src') and 'http' in actual_image.get_attribute('src'):\n",
    "                    image_urls.add(actual_image.get_attribute('src'))\n",
    "\n",
    "            image_count = len(image_urls)\n",
    "\n",
    "            if len(image_urls) >= max_links_to_fetch:\n",
    "                print(f\"Found: {len(image_urls)} image links, done!\")\n",
    "                break\n",
    "        else:\n",
    "            print(\"Found:\", len(image_urls), \"image links, looking for more ...\")\n",
    "            time.sleep(30)\n",
    "            return\n",
    "            load_more_button = wd.find_element_by_css_selector(\".mye4qd\")\n",
    "            if load_more_button:\n",
    "                wd.execute_script(\"document.querySelector('.mye4qd').click();\")\n",
    "\n",
    "        # move the result startpoint further down\n",
    "        results_start = len(thumbnail_results)\n",
    "\n",
    "    return image_urls"
   ]
  },
  {
   "cell_type": "code",
   "execution_count": 4,
   "metadata": {},
   "outputs": [],
   "source": [
    "def persist_image(folder_path:str,url:str):\n",
    "    try:\n",
    "        image_content = requests.get(url).content\n",
    "\n",
    "    except Exception as e:\n",
    "        print(f\"ERROR - Could not download {url} - {e}\")\n",
    "\n",
    "    try:\n",
    "        image_file = io.BytesIO(image_content)\n",
    "        image = Image.open(image_file).convert('RGB')\n",
    "        file_path = os.path.join(folder_path,hashlib.sha1(image_content).hexdigest()[:10] + '.jpg')\n",
    "        with open(file_path, 'wb') as f:\n",
    "            image.save(f, \"JPEG\", quality=85)\n",
    "        print(f\"SUCCESS - saved {url} - as {file_path}\")\n",
    "    except Exception as e:\n",
    "        print(f\"ERROR - Could not save {url} - {e}\")"
   ]
  },
  {
   "cell_type": "code",
   "execution_count": 5,
   "metadata": {},
   "outputs": [],
   "source": [
    "def search_and_download(search_term:str,driver_path:str,target_path='./images',number_images=40):\n",
    "    target_folder = os.path.join(target_path,'_'.join(search_term.lower().split(' ')))\n",
    "\n",
    "    if not os.path.exists(target_folder):\n",
    "        os.makedirs(target_folder)\n",
    "\n",
    "    with webdriver.Chrome(executable_path=driver_path) as wd:\n",
    "        res = fetch_image_urls(search_term, number_images, wd=wd, sleep_between_interactions=0.5)\n",
    "        \n",
    "    for elem in res:\n",
    "        persist_image(target_folder,elem)"
   ]
  },
  {
   "cell_type": "code",
   "execution_count": 6,
   "metadata": {},
   "outputs": [
    {
     "name": "stdout",
     "output_type": "stream",
     "text": [
      "Found: 100 search results. Extracting links from 0:100\n",
      "Found: 40 image links, done!\n",
      "SUCCESS - saved https://encrypted-tbn0.gstatic.com/images?q=tbn%3AANd9GcRVKqr-mGNOPh6In-lwf1jQb-a8eKVmBpPrnmNoUbQpPsixkKh9&usqp=CAU - as ./images\\concrete_rust\\77e2a28bc9.jpg\n",
      "SUCCESS - saved https://i.ytimg.com/vi/ON07TG_TbWY/maxresdefault.jpg - as ./images\\concrete_rust\\1c713d5d51.jpg\n",
      "SUCCESS - saved https://www.giatecscientific.com/wp-content/uploads/2018/04/DSC_0057-300x199.jpg - as ./images\\concrete_rust\\3e758145ec.jpg\n",
      "SUCCESS - saved https://encrypted-tbn0.gstatic.com/images?q=tbn%3AANd9GcQQMJv7yxK1AnAHXrmF7-DO2s9WC-k4eKZxvve9WivF9oVrCcIf&usqp=CAU - as ./images\\concrete_rust\\647c769dae.jpg\n",
      "SUCCESS - saved https://encrypted-tbn0.gstatic.com/images?q=tbn%3AANd9GcQWO192_vSjV1Kz0fU5vWhTZix40Gb4Gw0c0HYGflHjNBIXLNuX&usqp=CAU - as ./images\\concrete_rust\\8e14c4cd4b.jpg\n",
      "SUCCESS - saved https://encrypted-tbn0.gstatic.com/images?q=tbn%3AANd9GcTLf18lPUhA8wGZpgnVCzNtme0Pse5cNfAYxnQuN-bpDKRzenVY&usqp=CAU - as ./images\\concrete_rust\\c78514a8ad.jpg\n",
      "SUCCESS - saved https://encrypted-tbn0.gstatic.com/images?q=tbn%3AANd9GcSu-VYf-dy2MT2JQv5kNzWQFLAztpOaLvE8eBQPpTpcD6qoT8gF&usqp=CAU - as ./images\\concrete_rust\\f6d12febc6.jpg\n",
      "SUCCESS - saved https://encrypted-tbn0.gstatic.com/images?q=tbn%3AANd9GcRfqK_X9t_1E92t8_EjY_t-Pcq_ROImfh_jDA-VizwLwJoUKipg&usqp=CAU - as ./images\\concrete_rust\\85f67a7ed8.jpg\n",
      "SUCCESS - saved https://encrypted-tbn0.gstatic.com/images?q=tbn%3AANd9GcTd7RDinAiV7-oUUorh1toKrZ3fWCnMSVw4MNF4XdLVyKczUB4O&usqp=CAU - as ./images\\concrete_rust\\b9e1fe5419.jpg\n",
      "SUCCESS - saved https://thumbs.dreamstime.com/b/grunge-uneven-concrete-background-texture-rust-grunge-uneven-grey-concrete-surface-background-texture-stains-rust-175966641.jpg - as ./images\\concrete_rust\\c36fae1b9c.jpg\n",
      "SUCCESS - saved https://encrypted-tbn0.gstatic.com/images?q=tbn%3AANd9GcROoKwf1rY15AHHZ2mwt_ZgGydHjXkALwpFKZ5qtZ4iDJYN-UVU&usqp=CAU - as ./images\\concrete_rust\\85f2aa7839.jpg\n",
      "SUCCESS - saved https://comps.canstockphoto.com/rusted-stock-image_csp0454796.jpg - as ./images\\concrete_rust\\57e210768b.jpg\n",
      "SUCCESS - saved https://encrypted-tbn0.gstatic.com/images?q=tbn%3AANd9GcQqHDDBU4xLev3nOGzo7O7At0Mg6PBfMwx9YvT_f0t_0nb0YlKh&usqp=CAU - as ./images\\concrete_rust\\33981b2904.jpg\n",
      "SUCCESS - saved https://previews.123rf.com/images/schrades/schrades1108/schrades110800154/10393384-grungy-corrosion-and-rust-stains-along-a-concrete-harbor-breakwater-.jpg - as ./images\\concrete_rust\\1a9ba6ad06.jpg\n",
      "SUCCESS - saved https://encrypted-tbn0.gstatic.com/images?q=tbn%3AANd9GcQahWEGKKuh3moE6fIMbJfdvBPKrv69oKUmvJmbPU6JWPP-MX-9&usqp=CAU - as ./images\\concrete_rust\\26f061f060.jpg\n",
      "SUCCESS - saved https://encrypted-tbn0.gstatic.com/images?q=tbn%3AANd9GcRQMXm83sAfvr--xZDjOO4VNekd1_vypPGA38KBorXM4IQsnQ95&usqp=CAU - as ./images\\concrete_rust\\b7d677a0da.jpg\n",
      "SUCCESS - saved https://encrypted-tbn0.gstatic.com/images?q=tbn%3AANd9GcQqF0tRn_uW5DRCjwNKXMA8X3bNG3CgRBd4IGb_btVXIGfTl06o&usqp=CAU - as ./images\\concrete_rust\\5a89e238b9.jpg\n",
      "SUCCESS - saved https://encrypted-tbn0.gstatic.com/images?q=tbn%3AANd9GcRlLLyXxxVrNzWfmwZlpZUltCTDJCPHDUu7rJno4Cb4VEGzVDia&usqp=CAU - as ./images\\concrete_rust\\4eef78cb26.jpg\n",
      "SUCCESS - saved https://encrypted-tbn0.gstatic.com/images?q=tbn%3AANd9GcRZtYp5gFxvY8Wh044Qp4d_0nMASBpp5BrA6cd5H_32tnndyoGO&usqp=CAU - as ./images\\concrete_rust\\f8da3b10ad.jpg\n",
      "SUCCESS - saved https://encrypted-tbn0.gstatic.com/images?q=tbn%3AANd9GcSHb64SwiDeLX0dXSAVOovfTquG6zX9DublYYJLiazk5sVU8CRk&usqp=CAU - as ./images\\concrete_rust\\b43f774ca6.jpg\n",
      "SUCCESS - saved https://encrypted-tbn0.gstatic.com/images?q=tbn%3AANd9GcTikEInjsk9cEuNz7a9LqPSfUmOSp5IPfplKkXcN6gAqQdBKuTF&usqp=CAU - as ./images\\concrete_rust\\4d89993605.jpg\n",
      "SUCCESS - saved https://encrypted-tbn0.gstatic.com/images?q=tbn%3AANd9GcSpeJNFi9KGMJyhYik0LQAkA_r0HMZ0sVZR8-h8MgQ4PzwVuFgC&usqp=CAU - as ./images\\concrete_rust\\9c0889cfc2.jpg\n",
      "SUCCESS - saved https://encrypted-tbn0.gstatic.com/images?q=tbn%3AANd9GcQUnraH8IzjA4j8hPdkxMlAeUOoB37uDDavg67-pPfGI1yMFjFC&usqp=CAU - as ./images\\concrete_rust\\1c2541b989.jpg\n",
      "SUCCESS - saved https://encrypted-tbn0.gstatic.com/images?q=tbn%3AANd9GcRaG2wtPMjg8h6KqJvir3-_S-1ujCNV5jNUEI1IPZa6KB8ECarY&usqp=CAU - as ./images\\concrete_rust\\f02ca4546f.jpg\n",
      "SUCCESS - saved https://encrypted-tbn0.gstatic.com/images?q=tbn%3AANd9GcTGkgg9H_vOJkWTaKaiRtDJIQXx6nJZCPH6wL4w138asgUVGIjH&usqp=CAU - as ./images\\concrete_rust\\6c64f57fa7.jpg\n",
      "SUCCESS - saved https://www.engineering-webinars.com/wp-content/uploads/2018/11/corrosion-theory-800x400.jpg - as ./images\\concrete_rust\\16065339dc.jpg\n",
      "SUCCESS - saved https://encrypted-tbn0.gstatic.com/images?q=tbn%3AANd9GcQ84aiDv9BMlESeUPOk6vmAgk1la8y2yqSUypgl1cYfriuigSur&usqp=CAU - as ./images\\concrete_rust\\363ff7a6ce.jpg\n",
      "SUCCESS - saved https://images.squarespace-cdn.com/content/v1/54175d1ce4b0b77770535f0f/1528125850583-AFQI61HACXKUHCEU4NC0/ke17ZwdGBToddI8pDm48kEbpNpz_g84ww2Q11MA-atpZw-zPPgdn4jUwVcJE1ZvWEtT5uBSRWt4vQZAgTJucoTqqXjS3CfNDSuuf31e0tVFBtEgj52mM8uXJqXwNJ9DglJgC4wo-TZ2620CX9P9wUp1zDMfxjoXGDCxwz3Y9Vxg/1.jpg - as ./images\\concrete_rust\\ffd86611b5.jpg\n",
      "SUCCESS - saved https://encrypted-tbn0.gstatic.com/images?q=tbn%3AANd9GcRb122KkYzGjKz0y4QxiQIMl017uY9IX2ateaKYTxNcInVgF6YI&usqp=CAU - as ./images\\concrete_rust\\779d62babc.jpg\n",
      "SUCCESS - saved https://encrypted-tbn0.gstatic.com/images?q=tbn%3AANd9GcSN6KzrGSQhJOdRgI1uP3Fd_VkSUxIVdCyU_g-XL6S1aqQQJj1J&usqp=CAU - as ./images\\concrete_rust\\9866803fd8.jpg\n",
      "SUCCESS - saved https://encrypted-tbn0.gstatic.com/images?q=tbn%3AANd9GcQqPK9LPCwSpQ6rv2-VY27blfbkl8cRUWpPCeAIzQgtyou-w6GX&usqp=CAU - as ./images\\concrete_rust\\e8a2978f93.jpg\n",
      "SUCCESS - saved https://encrypted-tbn0.gstatic.com/images?q=tbn%3AANd9GcS4KB1XOlt4KqyUr7ZNiykPkpb0lsX4s4oY8qnxhwAdI7x4I3UQ&usqp=CAU - as ./images\\concrete_rust\\613044b71d.jpg\n",
      "SUCCESS - saved https://encrypted-tbn0.gstatic.com/images?q=tbn%3AANd9GcTRqFXwmM5-U6BQyde795DSaARpAjaoAFKXPPytXgyEoKpIMiHN&usqp=CAU - as ./images\\concrete_rust\\08d41abd80.jpg\n",
      "SUCCESS - saved https://encrypted-tbn0.gstatic.com/images?q=tbn%3AANd9GcT4Xo2e_v5l3DVyiMcFRGZ4djutRjA3vH1qwu_3ewYYb1dVS71U&usqp=CAU - as ./images\\concrete_rust\\dac4b677a0.jpg\n",
      "SUCCESS - saved https://encrypted-tbn0.gstatic.com/images?q=tbn%3AANd9GcQrR2rrhKJnZqvZaawTH0dnEin4PEHn-zTM55iZmdDw8xMUjdas&usqp=CAU - as ./images\\concrete_rust\\ee46c71016.jpg\n",
      "SUCCESS - saved https://encrypted-tbn0.gstatic.com/images?q=tbn%3AANd9GcQN85H7GhJFbF1DDaLbg_UjD2hLGUW8hVSVzxSQ1a0NQjG2AYrV&usqp=CAU - as ./images\\concrete_rust\\73b8fe53bd.jpg\n",
      "SUCCESS - saved https://encrypted-tbn0.gstatic.com/images?q=tbn%3AANd9GcSfu5_6goiAlGnqpFQWhoUAn3LOEJbymwNlU5R8RLCMhEPefrlP&usqp=CAU - as ./images\\concrete_rust\\88dc45845e.jpg\n",
      "SUCCESS - saved https://encrypted-tbn0.gstatic.com/images?q=tbn%3AANd9GcTvn7u4qfhDq5I6WgN87r9KEwOHgye7BfQWp0tde9yKzGulXD8j&usqp=CAU - as ./images\\concrete_rust\\4b712bf0c7.jpg\n",
      "SUCCESS - saved https://encrypted-tbn0.gstatic.com/images?q=tbn%3AANd9GcQFTw-bzEjIDWKChKw6wwdfhEb-ZdarOepv8MHsbf9rSCT7ltzi&usqp=CAU - as ./images\\concrete_rust\\fc13e49226.jpg\n",
      "SUCCESS - saved https://encrypted-tbn0.gstatic.com/images?q=tbn%3AANd9GcR69qePf24463cLIFcE2B0BtNrrtziMa3syRHyHvwXwOKbj6A5h&usqp=CAU - as ./images\\concrete_rust\\27080ce033.jpg\n"
     ]
    }
   ],
   "source": [
    "search_term='concrete rust'\n",
    "search_and_download(search_term=search_term, driver_path=DRIVER_PATH)"
   ]
  },
  {
   "cell_type": "code",
   "execution_count": null,
   "metadata": {},
   "outputs": [],
   "source": []
  }
 ],
 "metadata": {
  "kernelspec": {
   "display_name": "Python 3",
   "language": "python",
   "name": "python3"
  },
  "language_info": {
   "codemirror_mode": {
    "name": "ipython",
    "version": 3
   },
   "file_extension": ".py",
   "mimetype": "text/x-python",
   "name": "python",
   "nbconvert_exporter": "python",
   "pygments_lexer": "ipython3",
   "version": "3.7.7"
  }
 },
 "nbformat": 4,
 "nbformat_minor": 4
}
